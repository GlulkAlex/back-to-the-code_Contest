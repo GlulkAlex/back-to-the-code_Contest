{
 "cells": [
  {
   "cell_type": "code",
   "execution_count": 53,
   "metadata": {
    "collapsed": false
   },
   "outputs": [],
   "source": [
    "\"\"\" The program:\n",
    "The `aim` of this game is \n",
    "to own the largest number of `cells` in a `grid`.\n",
    "\n",
    "You have two ways to claim `ownership` of a `cell`:\n",
    ">1>By moving onto \n",
    "a `neutral cell` (and being the only one on that cell).\n",
    "(more effective)\n",
    ">2>By `surrounding` \n",
    "a collection of `neutral cells` with your own cells.\n",
    "\n",
    "The `grid` works as follows:\n",
    "The `grid` is composed of 35 columns and 20 rows.\n",
    "The `coordinates` of the top left cell are (0 0).\n",
    "You can \n",
    "move around on the `grid` \n",
    "by specifying a `target cell` (X Y). \n",
    "You will then move only one `cell` \n",
    "in the direction of that `target`, \n",
    "`vertically` \n",
    "if you are on the same `column`, \n",
    "`horizontally` otherwise.\n",
    "\n",
    "Each `round`, \n",
    "all `players` are moving at the same time. \n",
    "For a two-player game, \n",
    "the match will last at most 350 `rounds` \n",
    "(300 for three, 250 for four). \n",
    "Note that \n",
    "the game may `end` sooner \n",
    "if the `game ranking` cannot change \n",
    "no matter what happens next.\n",
    "\n",
    "The `winner` is decided depending on \n",
    "the number of `cells` owned at the `end` of the game. \"\"\"\n",
    "\"\"\" \n",
    "For expert CodinGamers \n",
    "(don't bother with this until you've really tried the rest):\n",
    "Going `back in time`:\n",
    "Instead of `moving`, \n",
    "you can \n",
    "decide to \n",
    "`go back in time` using \n",
    "the `BACK` command \n",
    "followed by a number of rounds. \n",
    "For example \n",
    "the output 'BACK 10' on `round` '30' will \n",
    "`revert` the `game state` back \n",
    "to what it was on `round` '20'.\n",
    "All `players` are affected, \n",
    "their \n",
    "last `movements` and \n",
    "`cell` `ownership` are \n",
    "rolled back by \n",
    "the specified number of `rounds`.\n",
    "The number of `rounds` \n",
    "you attempt to go back in time \n",
    "cannot exceed '25' `rounds`.\n",
    "If you try to \n",
    "`go back` to before the `beginning` of the `game`, \n",
    "you will only `go back` to the 'first' `round`.\n",
    "If multiple players want to \n",
    "`go back` in time on the same `round`, \n",
    "the number of `rounds` they want to go back are added up. \n",
    "In this case, \n",
    "it is possible \n",
    "to go back more than '25' `rounds` :)\n",
    "You can go `back in time` only once per `game`.\n",
    "\n",
    "You will no longer be able to `play` if:\n",
    "You try to go `back in time` more than once.\n",
    "The number of `rounds` \n",
    "you want to go `back in time` exceeds '25' rounds. \"\"\"\n",
    "\"\"\"\n",
    "!!!WARN!\n",
    "The program must \n",
    "first \n",
    "read the `initialization data` from `standard input`. \n",
    "Then, \n",
    "within an infinite loop, \n",
    "read the `contextual data` from the `standard input` \n",
    "(`player` 'positions' and \n",
    "`state of the grid`) and \n",
    "provide to the `standard output` the desired `instructions`.\n",
    "\n",
    "The `protocol` is detailed below.\n",
    "\n",
    "Your program has (await duration )'100ms' maximum each round \n",
    "to send your `instructions`.\"\"\"\n",
    "rules = \"\"\"`INITIALIZATION` INPUT:\n",
    "Line 1: 'opponentCount': number of `opponents` (1, 2 or 3)\n",
    "INPUT FOR ONE `GAME` `TURN`:\n",
    "Line 1: 'gameRound': \n",
    "'index' of the `current round` \n",
    "(can help you detect `back in time` `actions`)\n",
    "Line 2: 3 integers ('x' , 'y' , 'backInTimeLeft'):\n",
    "( x , y ) indicates your `coordinates` on the `grid`.\n",
    "'backInTimeLeft' indicates \n",
    "the amount of `back in time` `actions` \n",
    "you may still use (0 or 1).\n",
    "Next 'opponentCount' lines: \n",
    "for each opponent, \n",
    "3 integers ('opponentX' , 'opponentY' , 'opponentBackInTimeLeft') :\n",
    "( opponentX , opponentY ) indicates \n",
    "the opponent's `coordinates` on the `grid`.\n",
    "'opponentBackInTimeLeft' indicates \n",
    "the amount of `back in time` `actions` \n",
    "the opponent may still use (0 or 1).\n",
    "You will receive '-1 -1 0' if \n",
    "the `opponent` is no longer `playing`.\n",
    "(>>last from / in input<<)\n",
    "Next '20' lines: \n",
    "for each `row` of the `grid`, \n",
    "one `string` of '35' `characters` indicating \n",
    "which `player` owns each of its `cells`. \n",
    "These `characters` are any of the following:\n",
    ". -> `neutral` `cell`\n",
    "0 -> `your` `cell`\n",
    "1 -> `cell` of `opponent 1`\n",
    "2 -> `cell` of `opponent 2`\n",
    "3 -> `cell` of `opponent 3`\n",
    "OUTPUT FOR ONE `GAME` `TURN`:\n",
    "A single line \n",
    "(followed by a `carriage return`) \n",
    "specifying your desired `action`:\n",
    "`Move` `to`wards a `cell`: 'X Y'.\n",
    "`Go back in time` (for expert CodinGamers): \n",
    "'BACK' followed by the `number of rounds`. \n",
    "For example, 'BACK 7'.\n",
    "\n",
    "Optionally, \n",
    "you may \n",
    "append to the `line` a `message` \n",
    "that will be displayed on the monitor \n",
    "at the bottom left of the game screen \n",
    "('20' `characters` max). \n",
    "For example, '3 5 I WILL WIN.'\n",
    "CONSTRAINTS:\n",
    "1 ≤  opponentCount  ≤ 3\n",
    "1 ≤  gameRound  ≤ 350\n",
    "0 ≤  x, opponentX  < 35\n",
    "0 ≤  y, opponentY  < 20\n",
    "0 ≤  backInTimeLeft, opponentBackInTimeLeft  ≤ 1\n",
    "Response time per turn ≤ 100ms\"\"\""
   ]
  },
  {
   "cell_type": "code",
   "execution_count": 2,
   "metadata": {
    "collapsed": false
   },
   "outputs": [
    {
     "data": {
      "text/plain": [
       "(-1, -1, 0)"
      ]
     },
     "execution_count": 2,
     "metadata": {},
     "output_type": "execute_result"
    }
   ],
   "source": [
    "opponent_x, opponent_y, opponent_back_in_time_left = -1, -1, 0\n",
    "opponent_x, opponent_y, opponent_back_in_time_left"
   ]
  },
  {
   "cell_type": "code",
   "execution_count": 4,
   "metadata": {
    "collapsed": false
   },
   "outputs": [
    {
     "data": {
      "text/plain": [
       "True"
      ]
     },
     "execution_count": 4,
     "metadata": {},
     "output_type": "execute_result"
    }
   ],
   "source": [
    "(opponent_x, opponent_y, opponent_back_in_time_left) == (-1, -1, 0)"
   ]
  },
  {
   "cell_type": "code",
   "execution_count": 55,
   "metadata": {
    "collapsed": false
   },
   "outputs": [
    {
     "data": {
      "text/plain": [
       "['-1', '-1', '0']"
      ]
     },
     "execution_count": 55,
     "metadata": {},
     "output_type": "execute_result"
    }
   ],
   "source": [
    "'-1 -1 0'.split()"
   ]
  },
  {
   "cell_type": "code",
   "execution_count": 22,
   "metadata": {
    "collapsed": false
   },
   "outputs": [
    {
     "data": {
      "text/plain": [
       "([], '...................................')"
      ]
     },
     "execution_count": 22,
     "metadata": {},
     "output_type": "execute_result"
    }
   ],
   "source": [
    "grid = []\n",
    "line = '.' * 35\n",
    "grid, line"
   ]
  },
  {
   "cell_type": "code",
   "execution_count": 148,
   "metadata": {
    "collapsed": false
   },
   "outputs": [
    {
     "data": {
      "text/plain": [
       "['...................................',\n",
       " '...................................',\n",
       " '...................................',\n",
       " '...................................',\n",
       " '...................................',\n",
       " '...................................',\n",
       " '...................................',\n",
       " '...................................',\n",
       " '...................................',\n",
       " '...................................',\n",
       " '...................................',\n",
       " '...................................',\n",
       " '...................................',\n",
       " '...................................',\n",
       " '...................................',\n",
       " '...................................',\n",
       " '...................................',\n",
       " '...................................',\n",
       " '...................................',\n",
       " '...................................']"
      ]
     },
     "execution_count": 148,
     "metadata": {},
     "output_type": "execute_result"
    }
   ],
   "source": [
    "grid.clear()\n",
    "# list of strings\n",
    "# has more compact representation\n",
    "# than list of lists of chars\n",
    "for n in range(0, 20):\n",
    "    grid.append(line)\n",
    "    \n",
    "grid"
   ]
  },
  {
   "cell_type": "code",
   "execution_count": 10,
   "metadata": {
    "collapsed": false
   },
   "outputs": [
    {
     "data": {
      "text/plain": [
       "20"
      ]
     },
     "execution_count": 10,
     "metadata": {},
     "output_type": "execute_result"
    }
   ],
   "source": [
    "len(grid)"
   ]
  },
  {
   "cell_type": "code",
   "execution_count": 8,
   "metadata": {
    "collapsed": false
   },
   "outputs": [
    {
     "data": {
      "text/plain": [
       "'.'"
      ]
     },
     "execution_count": 8,
     "metadata": {},
     "output_type": "execute_result"
    }
   ],
   "source": [
    "grid[0][0]"
   ]
  },
  {
   "cell_type": "code",
   "execution_count": 9,
   "metadata": {
    "collapsed": false
   },
   "outputs": [
    {
     "ename": "IndexError",
     "evalue": "string index out of range",
     "output_type": "error",
     "traceback": [
      "\u001b[1;31m---------------------------------------------------------------------------\u001b[0m",
      "\u001b[1;31mIndexError\u001b[0m                                Traceback (most recent call last)",
      "\u001b[1;32m<ipython-input-9-cb37db7c413c>\u001b[0m in \u001b[0;36m<module>\u001b[1;34m()\u001b[0m\n\u001b[1;32m----> 1\u001b[1;33m \u001b[0mgrid\u001b[0m\u001b[1;33m[\u001b[0m\u001b[1;36m0\u001b[0m\u001b[1;33m]\u001b[0m\u001b[1;33m[\u001b[0m\u001b[1;36m35\u001b[0m\u001b[1;33m]\u001b[0m\u001b[1;33m\u001b[0m\u001b[0m\n\u001b[0m",
      "\u001b[1;31mIndexError\u001b[0m: string index out of range"
     ]
    }
   ],
   "source": [
    "grid[0][35]"
   ]
  },
  {
   "cell_type": "code",
   "execution_count": 10,
   "metadata": {
    "collapsed": false
   },
   "outputs": [
    {
     "data": {
      "text/plain": [
       "'.'"
      ]
     },
     "execution_count": 10,
     "metadata": {},
     "output_type": "execute_result"
    }
   ],
   "source": [
    "grid[0][35 - 1]"
   ]
  },
  {
   "cell_type": "code",
   "execution_count": 11,
   "metadata": {
    "collapsed": false
   },
   "outputs": [
    {
     "ename": "IndexError",
     "evalue": "list index out of range",
     "output_type": "error",
     "traceback": [
      "\u001b[1;31m---------------------------------------------------------------------------\u001b[0m",
      "\u001b[1;31mIndexError\u001b[0m                                Traceback (most recent call last)",
      "\u001b[1;32m<ipython-input-11-a9921789851b>\u001b[0m in \u001b[0;36m<module>\u001b[1;34m()\u001b[0m\n\u001b[1;32m----> 1\u001b[1;33m \u001b[0mgrid\u001b[0m\u001b[1;33m[\u001b[0m\u001b[1;36m20\u001b[0m\u001b[1;33m]\u001b[0m\u001b[1;33m[\u001b[0m\u001b[1;36m35\u001b[0m \u001b[1;33m-\u001b[0m \u001b[1;36m1\u001b[0m\u001b[1;33m]\u001b[0m\u001b[1;33m\u001b[0m\u001b[0m\n\u001b[0m",
      "\u001b[1;31mIndexError\u001b[0m: list index out of range"
     ]
    }
   ],
   "source": [
    "grid[20][35 - 1]"
   ]
  },
  {
   "cell_type": "code",
   "execution_count": 11,
   "metadata": {
    "collapsed": false
   },
   "outputs": [
    {
     "data": {
      "text/plain": [
       "[]"
      ]
     },
     "execution_count": 11,
     "metadata": {},
     "output_type": "execute_result"
    }
   ],
   "source": [
    "grid.clear()\n",
    "grid"
   ]
  },
  {
   "cell_type": "code",
   "execution_count": 16,
   "metadata": {
    "collapsed": false
   },
   "outputs": [
    {
     "name": "stdout",
     "output_type": "stream",
     "text": [
      "['.', '.', '.', '.', '.', '.', '.', '.', '.', '.', '.', '.', '.', '.', '.', '.', '.', '.', '.', '.', '.', '.', '.', '.', '.', '.', '.', '.', '.', '.', '.', '.', '.', '.', '.']\n"
     ]
    }
   ],
   "source": [
    "print(list(line))"
   ]
  },
  {
   "cell_type": "code",
   "execution_count": 15,
   "metadata": {
    "collapsed": false
   },
   "outputs": [
    {
     "name": "stdout",
     "output_type": "stream",
     "text": [
      "['.', '.', '.', '.', '.', '.', '.', '.', '.', '.', '.', '.', '.', '.', '.', '.', '.', '.', '.', '.', '.', '.', '.', '.', '.', '.', '.', '.', '.', '.', '.', '.', '.', '.', '.']\n"
     ]
    }
   ],
   "source": [
    "# list of lists of chars\n",
    "# allow\n",
    "# to assign / change \n",
    "# matrix value directly\n",
    "# not using string manipulation\n",
    "# i.e. one character instead of whole string\n",
    "for n in range(0, 20):\n",
    "    grid.append(list(line))\n",
    "    \n",
    "print(grid[0])"
   ]
  },
  {
   "cell_type": "code",
   "execution_count": 17,
   "metadata": {
    "collapsed": false
   },
   "outputs": [
    {
     "data": {
      "text/plain": [
       "'.'"
      ]
     },
     "execution_count": 17,
     "metadata": {},
     "output_type": "execute_result"
    }
   ],
   "source": [
    "grid[0][35 - 1]"
   ]
  },
  {
   "cell_type": "code",
   "execution_count": 20,
   "metadata": {
    "collapsed": false
   },
   "outputs": [
    {
     "name": "stdout",
     "output_type": "stream",
     "text": [
      "['.', '.', '.', '.', '.', '.', '.', '.', '.', '.', '.', '.', '.', '.', '.', '.', '.', '.', '.', '.', '.', '.', '.', '.', '.', '.', '.', '.', '.', '.', '.', '.', '.', '.', '0']\n"
     ]
    }
   ],
   "source": [
    "grid[0][35 - 1] = '0'\n",
    "grid[0][35 - 1]\n",
    "print(grid[0])"
   ]
  },
  {
   "cell_type": "code",
   "execution_count": 12,
   "metadata": {
    "collapsed": false
   },
   "outputs": [
    {
     "data": {
      "text/plain": [
       "2"
      ]
     },
     "execution_count": 12,
     "metadata": {},
     "output_type": "execute_result"
    }
   ],
   "source": [
    "x = 1\n",
    "if x == 1:\n",
    "    x = 2\n",
    "elif x == 2:\n",
    "    x = 3\n",
    "elif x == 3:\n",
    "    x = 4\n",
    "    \n",
    "x    "
   ]
  },
  {
   "cell_type": "code",
   "execution_count": 1,
   "metadata": {
    "collapsed": false
   },
   "outputs": [
    {
     "data": {
      "text/plain": [
       "{'d': 'move down', 'l': 'move left', 'r': 'move right', 'u': 'move up'}"
      ]
     },
     "execution_count": 1,
     "metadata": {},
     "output_type": "execute_result"
    }
   ],
   "source": [
    "moves = {\n",
    "        'u': 'move up',\n",
    "        'd': 'move down',\n",
    "        'r': 'move right',\n",
    "        'l': 'move left'\n",
    "    }\n",
    "moves"
   ]
  },
  {
   "cell_type": "code",
   "execution_count": 2,
   "metadata": {
    "collapsed": false
   },
   "outputs": [
    {
     "data": {
      "text/plain": [
       "[('u', (0, 0))]"
      ]
     },
     "execution_count": 2,
     "metadata": {},
     "output_type": "execute_result"
    }
   ],
   "source": [
    "# (move, (x, y))\n",
    "playerPath1 = [('u', (0, 0))]\n",
    "playerPath1"
   ]
  },
  {
   "cell_type": "code",
   "execution_count": 4,
   "metadata": {
    "collapsed": false
   },
   "outputs": [
    {
     "data": {
      "text/plain": [
       "[('u', {'x': 3, 'y': 4})]"
      ]
     },
     "execution_count": 4,
     "metadata": {},
     "output_type": "execute_result"
    }
   ],
   "source": [
    "# (move, {'x': 3, 'y': 4})\n",
    "playerPath2 = [('u', {'x': 3, 'y': 4})]\n",
    "playerPath2"
   ]
  },
  {
   "cell_type": "code",
   "execution_count": 7,
   "metadata": {
    "collapsed": false
   },
   "outputs": [
    {
     "data": {
      "text/plain": [
       "[{'lastMoveDirection': 'u', 'playerPosition': {'x': 3, 'y': 5}, 'turn': 1},\n",
       " {'lastMoveDirection': 'u', 'playerPosition': {'x': 3, 'y': 4}, 'turn': 2}]"
      ]
     },
     "execution_count": 7,
     "metadata": {},
     "output_type": "execute_result"
    }
   ],
   "source": [
    "playerPath3 = [\n",
    "    {'turn': 1, 'lastMoveDirection': 'u', 'playerPosition': {'x': 3, 'y': 5}},\n",
    "    {'turn': 2, 'lastMoveDirection': 'u', 'playerPosition': {'x': 3, 'y': 4}}]\n",
    "playerPath3"
   ]
  },
  {
   "cell_type": "code",
   "execution_count": 84,
   "metadata": {
    "collapsed": true
   },
   "outputs": [],
   "source": [
    "# possible moves \n",
    "# for current turn / player position at the grid\n",
    "def availableMoves(\n",
    "    x,\n",
    "    y,\n",
    "    #xLimits\n",
    "    minX,\n",
    "    maxX = 35,\n",
    "    #yLimits\n",
    "    minY = 0,\n",
    "    maxY = 20\n",
    "):\n",
    "    availablePotitions = []\n",
    "    possibleMoves = []\n",
    "    possibleMovesDeltas = []\n",
    "    if minX <= x - 1:\n",
    "        availablePotitions.append((x - 1, y))\n",
    "        possibleMoves.append('L')\n",
    "        possibleMovesDeltas.append((-1, 0))\n",
    "        \n",
    "    if minY <= y - 1:\n",
    "        availablePotitions.append((x, y - 1))\n",
    "        possibleMoves.append('U')\n",
    "        possibleMovesDeltas.append((0, -1))\n",
    "    \n",
    "    if maxX > x + 1:\n",
    "        availablePotitions.append((x + 1, y))\n",
    "        possibleMoves.append('R')\n",
    "        possibleMovesDeltas.append((1, 0))\n",
    "        \n",
    "    if maxY > y + 1:\n",
    "        availablePotitions.append((x, y + 1))\n",
    "        possibleMoves.append('D')\n",
    "        possibleMovesDeltas.append((0, 1))\n",
    "    \n",
    "    # empty list or up to four elements\n",
    "    return possibleMoves, possibleMovesDeltas, availablePotitions"
   ]
  },
  {
   "cell_type": "code",
   "execution_count": 34,
   "metadata": {
    "collapsed": true
   },
   "outputs": [],
   "source": [
    "# coordinates limits:\n",
    "x_Range = list(range(0, 35))\n",
    "y_Range = list(range(0, 20))"
   ]
  },
  {
   "cell_type": "code",
   "execution_count": 35,
   "metadata": {
    "collapsed": true
   },
   "outputs": [],
   "source": [
    "import random\n",
    "\n",
    "#x, y, back_in_time_left = [int(i) for i in raw_input().split()]\n",
    "#first turn\n",
    "\n",
    "# seed\n",
    "x = random.choice(x_Range)\n",
    "y = random.choice(y_Range)"
   ]
  },
  {
   "cell_type": "code",
   "execution_count": 30,
   "metadata": {
    "collapsed": false
   },
   "outputs": [
    {
     "data": {
      "text/plain": [
       "35"
      ]
     },
     "execution_count": 30,
     "metadata": {},
     "output_type": "execute_result"
    }
   ],
   "source": [
    "len(x_Range)"
   ]
  },
  {
   "cell_type": "code",
   "execution_count": 31,
   "metadata": {
    "collapsed": false
   },
   "outputs": [
    {
     "data": {
      "text/plain": [
       "[34]"
      ]
     },
     "execution_count": 31,
     "metadata": {},
     "output_type": "execute_result"
    }
   ],
   "source": [
    "x_Range[-1:]"
   ]
  },
  {
   "cell_type": "code",
   "execution_count": 85,
   "metadata": {
    "collapsed": false
   },
   "outputs": [
    {
     "data": {
      "text/plain": [
       "(0,\n",
       " 16,\n",
       " (['U', 'R', 'D'], [(0, -1), (1, 0), (0, 1)], [(0, 15), (1, 16), (0, 17)]))"
      ]
     },
     "execution_count": 85,
     "metadata": {},
     "output_type": "execute_result"
    }
   ],
   "source": [
    "aM = availableMoves(\n",
    "    x = x,\n",
    "    y = y,\n",
    "    #xLimits\n",
    "    minX = x_Range[0],\n",
    "    maxX = x_Range[len(x_Range)-1],\n",
    "    #yLimits\n",
    "    minY = y_Range[0],\n",
    "    maxY = y_Range[len(y_Range)-1]\n",
    ")\n",
    "x, y, aM"
   ]
  },
  {
   "cell_type": "code",
   "execution_count": 47,
   "metadata": {
    "collapsed": false
   },
   "outputs": [
    {
     "data": {
      "text/plain": [
       "'D'"
      ]
     },
     "execution_count": 47,
     "metadata": {},
     "output_type": "execute_result"
    }
   ],
   "source": [
    "rMove1 = random.choice(aM)\n",
    "rMove1"
   ]
  },
  {
   "cell_type": "code",
   "execution_count": 138,
   "metadata": {
    "collapsed": true
   },
   "outputs": [],
   "source": [
    "def withinLimits(\n",
    "    x, \n",
    "    y,\n",
    "    #xLimits\n",
    "    minX = 0,\n",
    "    maxX = 35,\n",
    "    #yLimits\n",
    "    minY = 0,\n",
    "    maxY = 20\n",
    "):\n",
    "    \"\"\"check membership\"\"\"\n",
    "    \n",
    "    return x >= minX and x < maxX and y >= minY and y < maxY"
   ]
  },
  {
   "cell_type": "code",
   "execution_count": 139,
   "metadata": {
    "collapsed": false
   },
   "outputs": [
    {
     "data": {
      "text/plain": [
       "True"
      ]
     },
     "execution_count": 139,
     "metadata": {},
     "output_type": "execute_result"
    }
   ],
   "source": [
    "withinLimits(\n",
    "    x = 1, \n",
    "    y = 0)"
   ]
  },
  {
   "cell_type": "code",
   "execution_count": 171,
   "metadata": {
    "collapsed": false
   },
   "outputs": [
    {
     "data": {
      "text/plain": [
       "\"rectangles combinations \\nfrom / for given start 'S'\\n'C' is far / farthest coner\""
      ]
     },
     "execution_count": 171,
     "metadata": {},
     "output_type": "execute_result"
    }
   ],
   "source": [
    "\"\"\"rectangles combinations \n",
    "from / for given start 'S'\n",
    "'C' is far / farthest coner\"\"\"\n",
    "##01234567890|#01234567890|\n",
    "#0...........|0...........|\n",
    "#1...........|1...........|\n",
    "#2..CXX......|2....XXC....|\n",
    "#3..X.XXXC...|3.CXXX.X....|\n",
    "#4..X.X..X...|4.X..X.X....|\n",
    "#5.XXXSXXX...|5.XXXSXXX...|\n",
    "#6.X..X.X....|6..X.X..X...|\n",
    "#7.CXXX.X....|7..X.XXXC...|\n",
    "#8....XXC....|8..CXX......|\n",
    "#9...........|9...........|\n",
    "#0...........|0...........|"
   ]
  },
  {
   "cell_type": "code",
   "execution_count": 251,
   "metadata": {
    "collapsed": false
   },
   "outputs": [
    {
     "data": {
      "text/plain": [
       "-1"
      ]
     },
     "execution_count": 251,
     "metadata": {},
     "output_type": "execute_result"
    }
   ],
   "source": [
    "# predefine / calculated \n",
    "# transformation / path matrix\n",
    "# will be useful\n",
    "# 'longSide / shortSide to the right, shortSide / longSide down'\n",
    "# ['add +1 to startX', 'add +1 to startY', 'add -1 to startX / connerX', 'add -1 to startY / connerY']\n",
    "# 'longSide / shortSide to the down, shortSide /longSide left'\n",
    "# ['add +1 to startY', 'add -1 to startX', 'add -1 to connerY', 'add +1 to connerX']\n",
    "# 'longSide / shortSide to the left, shortSide / longSide up'\n",
    "# ['add -1 to startX', 'add -1 to startY', 'add +1 to connerX', 'add +1 to connerY']\n",
    "\n",
    "# 'longSide / shortSide to the right, shortSide / longSide up'\n",
    "# ['add -1 to startY', 'add +1 to startX', 'add +1 to connerY', 'add -1 to connerX']\n",
    "\n",
    "# alternation / cycling berween X and Y:\n",
    "# if X then Y, if Y then X\n",
    "startX = 4\n",
    "startY = 5\n",
    "longSide = 4\n",
    "shortSide = 3\n",
    "    \n",
    "pathTransformationMatrix = {\n",
    "   'RD': [\n",
    "            # coordinate 'tuple' `index`\n",
    "            {'start': 'x[0]', 'rangeFrom': 'startX', 'rangeTo': 'startX + longSide / shortSide', 'coefficient': +1},\n",
    "            {'start': 'y[1]', \n",
    "             # 'startY' excluded\n",
    "             'rangeFrom': 'startY + 1', \n",
    "             'rangeTo': 'startY + shortSide / longSide', 'coefficient': +1},\n",
    "            {'start': 'x[0]', \n",
    "             # 'connerX' excluded\n",
    "             'rangeFrom': 'startX + longSide / shortSide - 2', \n",
    "             'rangeTo': 'startX - 1', \n",
    "             # `step`\n",
    "             'coefficient': -1},\n",
    "            {'start': 'y[1]', \n",
    "             # 'connerY' excluded\n",
    "             'rangeFrom': 'startY + shortSide / longSide - 2', \n",
    "             # 'startY' excluded\n",
    "             'rangeTo': 'startY', 'coefficient': -1}\n",
    "            ],\n",
    "   'DL': [\n",
    "            # coordinate 'tuple' `index`\n",
    "            {'tupleIndex': 1, 'from': startY, 'to': (startY + shortSide), 'step': 1},\n",
    "            #[1, startY, (startY + shortSide), 1],\n",
    "            {'tupleIndex': 0, 'from': (startX - 1), 'to': (startX - longSide), 'step': -1},\n",
    "            {'tupleIndex': 1, 'from': (startY + shortSide - 2), 'to': startY - 1, 'step': -1},\n",
    "            {'tupleIndex': 0, 'from': (startX - longSide + 2), 'to': startX, 'step': 1}\n",
    "            #[0, startX - longSide + 2, startX, 1]\n",
    "        ]\n",
    "    #['DL', [1, startY, startY + shortSide, 1], [0, startX - longSide + 2, startX, 1]]\n",
    "}\n",
    "#list('DL', [1, startY, startY + shortSide, 1], [0, startX - longSide + 2, startX, 1])\n",
    "#{'rangeFrom': startY + shortSide - 1}\n",
    "#{'rangeFrom': startY}\n",
    "#pathTransformationMatrix['DL']\n",
    "pathTransformationMatrix['DL'][1]['step']"
   ]
  },
  {
   "cell_type": "code",
   "execution_count": 292,
   "metadata": {
    "collapsed": true
   },
   "outputs": [],
   "source": [
    "def drawPathFromT_Matrix(\n",
    "    startX,\n",
    "    startY,\n",
    "    longSide = 4,\n",
    "    shortSide = 3,\n",
    "    # random\n",
    "    # first leter => longSide\n",
    "    # second leter => shortSide\n",
    "    # ['RD', 'RU', 'LD', 'LU'\n",
    "    # 'DR', 'UR', 'DL', 'UL']\n",
    "    direction = 'DL'\n",
    "):\n",
    "    \"\"\"Pick transformation from matrix\n",
    "    and draw path\"\"\"\n",
    "    \n",
    "    path = []\n",
    "    tMatrix = {\n",
    "        'RD': {\n",
    "            'distantConerX': startX + longSide - 1,\n",
    "            'distantConerY': startY + shortSide - 1,\n",
    "            'transformations': [\n",
    "            # coordinate 'tuple' `index`\n",
    "            {'tupleIndex': 0, 'from': startX, 'to': startX + longSide, 'step': +1},\n",
    "            {'tupleIndex': 1, \n",
    "             # 'startY' excluded\n",
    "             'from': startY + 1, \n",
    "             'to': startY + shortSide, 'step': +1},\n",
    "            {'tupleIndex': 0, \n",
    "             # 'connerX' excluded\n",
    "             'from': startX + longSide - 2, \n",
    "             'to': startX - 1, \n",
    "             # `step`\n",
    "             'step': -1},\n",
    "            {'tupleIndex': 1, \n",
    "             # 'connerY' excluded\n",
    "             'from': startY + shortSide - 2, \n",
    "             # 'startY' excluded\n",
    "             'to': startY, 'step': -1}\n",
    "            ]},\n",
    "        'DL': {\n",
    "            'distantConerX': startX - longSide + 1,\n",
    "            'distantConerY': startY + shortSide - 1,\n",
    "            'transformations': [\n",
    "                {'tupleIndex': 1, 'from': startY, 'to': (startY + shortSide), 'step': 1},\n",
    "                {'tupleIndex': 0, 'from': (startX - 1), 'to': (startX - longSide), 'step': -1},\n",
    "                {'tupleIndex': 1, 'from': (startY + shortSide - 2), 'to': startY - 1, 'step': -1},\n",
    "                {'tupleIndex': 0, 'from': (startX - longSide + 2), 'to': startX, 'step': 1}\n",
    "            ]\n",
    "        },\n",
    "        'LU': {\n",
    "            'distantConerX': startX - longSide + 1,\n",
    "            'distantConerY': startY - shortSide + 1,\n",
    "            'transformations': [\n",
    "                {'tupleIndex': 0, 'from': startX, 'to': (startX - longSide), 'step': -1},\n",
    "                {'tupleIndex': 1, 'from': startY - 1, 'to': startY - shortSide, 'step': -1},\n",
    "                {'tupleIndex': 0, 'from': (startX - longSide + 2), 'to': startX + 1, 'step': 1},\n",
    "                {'tupleIndex': 1, 'from': startY - shortSide + 2, 'to': startY, 'step': 1}                \n",
    "            ]\n",
    "        },\n",
    "        'RU': {\n",
    "            'distantConerX': startX + longSide - 1,\n",
    "            'distantConerY': startY - shortSide + 1,\n",
    "            'transformations': [\n",
    "                {'tupleIndex': 0, 'from': startX, 'to': (startX + longSide), 'step': 1},\n",
    "                {'tupleIndex': 1, 'from': startY - 1, 'to': startY - shortSide, 'step': -1},\n",
    "                {'tupleIndex': 0, 'from': (startX + longSide - 2), 'to': startX - 1, 'step': -1},\n",
    "                {'tupleIndex': 1, 'from': startY - shortSide + 2, 'to': startY, 'step': 1}                \n",
    "            ]\n",
    "        }\n",
    "    }\n",
    "    \n",
    "    #currentX = startX\n",
    "    #currentY = startY\n",
    "    #coordTuple = (startX, startY)\n",
    "    coordList = [startX, startY]\n",
    "    \n",
    "    # depend on\n",
    "    # build direction / variant\n",
    "    distantConerX = tMatrix[direction]['distantConerX']\n",
    "    distantConerY = tMatrix[direction]['distantConerY']\n",
    "    # (major / main) \n",
    "    # one of the feasibility conditions\n",
    "    if not withinLimits(distantConerX, distantConerY):\n",
    "        #break\n",
    "        return path\n",
    "    \n",
    "    for operation in tMatrix[direction]['transformations']:\n",
    "        for coord in range(operation['from'], operation['to'], operation['step']):\n",
    "            #coordTuple[operation['tupleIndex']] = coord\n",
    "            coordList[operation['tupleIndex']] = coord\n",
    "            #path.append(coordTuple)\n",
    "            path.append((coordList[0], coordList[1]))\n",
    "    \n",
    "    return path"
   ]
  },
  {
   "cell_type": "code",
   "execution_count": 296,
   "metadata": {
    "collapsed": false
   },
   "outputs": [
    {
     "data": {
      "text/plain": [
       "(10,\n",
       " '[(30, 2), (31, 2), (32, 2), (33, 2), (33, 1), (33, 0), (32, 0), (31, 0), (30, 0), (30, 1)]')"
      ]
     },
     "execution_count": 296,
     "metadata": {},
     "output_type": "execute_result"
    }
   ],
   "source": [
    "grid.clear()\n",
    "line = '.' * 35\n",
    "# list of strings\n",
    "# has more compact representation\n",
    "# than list of lists of chars\n",
    "for n in range(0, 20):\n",
    "    grid.append(line)\n",
    "\n",
    "startX = 30\n",
    "startY = 2    \n",
    "path2 = drawPathFromT_Matrix(\n",
    "    startX = startX,\n",
    "    startY = startY,\n",
    "    direction = 'RU'\n",
    ")    \n",
    "# for 4 * 3 sides path length / perimeter must be equal to '10'\n",
    "#assert len(path2) = 10  \n",
    "len(path2), str(path2)"
   ]
  },
  {
   "cell_type": "code",
   "execution_count": 294,
   "metadata": {
    "collapsed": false
   },
   "outputs": [
    {
     "data": {
      "text/plain": [
       "['..............................XXXX.',\n",
       " '..............................X..X.',\n",
       " '..............................SXXX.',\n",
       " '...................................',\n",
       " '...................................',\n",
       " '...................................',\n",
       " '...................................',\n",
       " '...................................',\n",
       " '...................................',\n",
       " '...................................',\n",
       " '...................................',\n",
       " '...................................',\n",
       " '...................................',\n",
       " '...................................',\n",
       " '...................................',\n",
       " '...................................',\n",
       " '...................................',\n",
       " '...................................',\n",
       " '...................................',\n",
       " '...................................']"
      ]
     },
     "execution_count": 294,
     "metadata": {},
     "output_type": "execute_result"
    }
   ],
   "source": [
    "for x, y in path2:\n",
    "   grid[y] = grid[y][:x] + 'X' + grid[y][x + 1:] \n",
    "\n",
    "grid[startY] = grid[startY][:startX] + 'S' + grid[startY][startX + 1:] \n",
    "grid"
   ]
  },
  {
   "cell_type": "code",
   "execution_count": 299,
   "metadata": {
    "collapsed": false
   },
   "outputs": [
    {
     "data": {
      "text/plain": [
       "(30, 2)"
      ]
     },
     "execution_count": 299,
     "metadata": {},
     "output_type": "execute_result"
    }
   ],
   "source": [
    "path2[0]"
   ]
  },
  {
   "cell_type": "code",
   "execution_count": 302,
   "metadata": {
    "collapsed": false
   },
   "outputs": [
    {
     "data": {
      "text/plain": [
       "('[(31, 2), (32, 2), (33, 2), (33, 1), (33, 0), (32, 0), (31, 0), (30, 0), (30, 1)]',\n",
       " 9)"
      ]
     },
     "execution_count": 302,
     "metadata": {},
     "output_type": "execute_result"
    }
   ],
   "source": [
    "str(path2[1:]), len(path2[1:])"
   ]
  },
  {
   "cell_type": "code",
   "execution_count": 303,
   "metadata": {
    "collapsed": false
   },
   "outputs": [
    {
     "data": {
      "text/plain": [
       "[]"
      ]
     },
     "execution_count": 303,
     "metadata": {},
     "output_type": "execute_result"
    }
   ],
   "source": [
    "[][1:]"
   ]
  },
  {
   "cell_type": "code",
   "execution_count": 203,
   "metadata": {
    "collapsed": false
   },
   "outputs": [
    {
     "data": {
      "text/plain": [
       "[(1, 5, 8, 1)]"
      ]
     },
     "execution_count": 203,
     "metadata": {},
     "output_type": "execute_result"
    }
   ],
   "source": [
    "[(1, startY, startY + shortSide, 1)]"
   ]
  },
  {
   "cell_type": "code",
   "execution_count": 195,
   "metadata": {
    "collapsed": false
   },
   "outputs": [
    {
     "ename": "TypeError",
     "evalue": "list() takes at most 1 argument (3 given)",
     "output_type": "error",
     "traceback": [
      "\u001b[1;31m---------------------------------------------------------------------------\u001b[0m",
      "\u001b[1;31mTypeError\u001b[0m                                 Traceback (most recent call last)",
      "\u001b[1;32m<ipython-input-195-77e87c288262>\u001b[0m in \u001b[0;36m<module>\u001b[1;34m()\u001b[0m\n\u001b[1;32m----> 1\u001b[1;33m \u001b[0mlist\u001b[0m\u001b[1;33m(\u001b[0m\u001b[1;36m1\u001b[0m\u001b[1;33m,\u001b[0m \u001b[1;36m2\u001b[0m\u001b[1;33m,\u001b[0m \u001b[1;36m3\u001b[0m\u001b[1;33m)\u001b[0m\u001b[1;33m\u001b[0m\u001b[0m\n\u001b[0m",
      "\u001b[1;31mTypeError\u001b[0m: list() takes at most 1 argument (3 given)"
     ]
    }
   ],
   "source": [
    "list(1, 2, 3)"
   ]
  },
  {
   "cell_type": "code",
   "execution_count": 204,
   "metadata": {
    "collapsed": false
   },
   "outputs": [
    {
     "data": {
      "text/plain": [
       "['DL', 1, 5, 8, 1, 0, 2, 4, 1]"
      ]
     },
     "execution_count": 204,
     "metadata": {},
     "output_type": "execute_result"
    }
   ],
   "source": [
    "['DL', 1, startY, startY + shortSide, 1, 0, startX - longSide + 2, startX, 1]"
   ]
  },
  {
   "cell_type": "code",
   "execution_count": 177,
   "metadata": {
    "collapsed": true
   },
   "outputs": [],
   "source": [
    "def drawRectangle(\n",
    "    startX,\n",
    "    startY,\n",
    "    longSide = 4,\n",
    "    shortSide = 3,\n",
    "    # random\n",
    "    # first leter => longSide\n",
    "    # second leter => shortSide\n",
    "    # ['RD', 'RU', 'LD', 'LU'\n",
    "    # 'DR', 'UR', 'DL', 'UL']\n",
    "    direction = 'R'\n",
    "):\n",
    "    \"\"\"calculate path for rectangle\"\"\"\n",
    "    \n",
    "    #assert withinLimits(startX, startY)\n",
    "    \n",
    "    path = []\n",
    "    currentX = startX\n",
    "    currentY = startY\n",
    "    \n",
    "    # depend on\n",
    "    # build direction / variant\n",
    "    distantConerX = startX + longSide - 1\n",
    "    distantConerY = startY + shortSide - 1\n",
    "    # (major / main) \n",
    "    # one of the feasibility conditions\n",
    "    if not withinLimits(distantConerX, distantConerY):\n",
    "        #break\n",
    "        return path\n",
    "        \n",
    "    # '+' stands for 'RIGHT'\n",
    "    # '-' => 'LEFT'\n",
    "    for x in range(startX, startX + longSide):\n",
    "        #if withinLimits(x, startY):\n",
    "            currentX = x\n",
    "            path.append((currentX, startY))\n",
    "        #else:\n",
    "            #break\n",
    "            #return path\n",
    "    \n",
    "    topRightConerX = currentX\n",
    "    #if len(path) < longSide:\n",
    "        #return path\n",
    "\n",
    "    # '-' stands for 'UP'\n",
    "    # '+' => 'DOWN'\n",
    "    for y in range(startY + 1, startY + shortSide):\n",
    "        #if withinLimits(currentX, y):\n",
    "            currentY = y\n",
    "            path.append((currentX, currentY))\n",
    "        #else:\n",
    "            #break\n",
    "            #return path\n",
    "        \n",
    "    bottomRightConerY = currentY\n",
    "\n",
    "    for x in range(topRightConerX - 1, topRightConerX - longSide, -1):\n",
    "        #if withinLimits(x, currentY):\n",
    "            currentX = x\n",
    "            path.append((currentX, currentY))\n",
    "        #else:\n",
    "            #break\n",
    "            #return path     \n",
    "\n",
    "    bottomLeftConerX = currentX\n",
    "    \n",
    "    # last step\n",
    "    # must `close` rectangle\n",
    "    # make `cycle` path\n",
    "    # so, it is shorter then previous steps\n",
    "    for y in range(bottomRightConerY - 1, startY, -1):\n",
    "        #if withinLimits(currentX, y):\n",
    "            currentY = y\n",
    "            path.append((currentX, currentY))\n",
    "        #else:\n",
    "            #break\n",
    "            #return path\n",
    "        \n",
    "    # must be as long as perimeter\n",
    "    # but cosider / minus (two?) coners for `shortSide`\n",
    "    #if len(path) < 2 * longSide + 2 * shortSide - 2 * 1:\n",
    "    \n",
    "    return path"
   ]
  },
  {
   "cell_type": "code",
   "execution_count": 129,
   "metadata": {
    "collapsed": false
   },
   "outputs": [
    {
     "data": {
      "text/plain": [
       "[9, 8, 7, 6, 5, 4, 3, 2, 1]"
      ]
     },
     "execution_count": 129,
     "metadata": {},
     "output_type": "execute_result"
    }
   ],
   "source": [
    "list(range(9, 0, -1))"
   ]
  },
  {
   "cell_type": "code",
   "execution_count": 162,
   "metadata": {
    "collapsed": false
   },
   "outputs": [
    {
     "data": {
      "text/plain": [
       "[1, 0, -1]"
      ]
     },
     "execution_count": 162,
     "metadata": {},
     "output_type": "execute_result"
    }
   ],
   "source": [
    "list(range(2 - 1, 2 - 1 - 3, -1))"
   ]
  },
  {
   "cell_type": "code",
   "execution_count": 161,
   "metadata": {
    "collapsed": false
   },
   "outputs": [
    {
     "data": {
      "text/plain": [
       "-2"
      ]
     },
     "execution_count": 161,
     "metadata": {},
     "output_type": "execute_result"
    }
   ],
   "source": [
    "2 - 1 - 3"
   ]
  },
  {
   "cell_type": "code",
   "execution_count": 176,
   "metadata": {
    "collapsed": false
   },
   "outputs": [
    {
     "data": {
      "text/plain": [
       "(0, '[]')"
      ]
     },
     "execution_count": 176,
     "metadata": {},
     "output_type": "execute_result"
    }
   ],
   "source": [
    "rect1 = drawRectangle(\n",
    "    startX = 32,\n",
    "    startY = 10)\n",
    "len(rect1), str(rect1)"
   ]
  },
  {
   "cell_type": "code",
   "execution_count": 175,
   "metadata": {
    "collapsed": false
   },
   "outputs": [
    {
     "data": {
      "text/plain": [
       "['XXXX...............................',\n",
       " 'X..X...............................',\n",
       " 'XXXX...............................',\n",
       " '...................................',\n",
       " '...................................',\n",
       " '...................................',\n",
       " '...................................',\n",
       " '...................................',\n",
       " '...................................',\n",
       " '...................................',\n",
       " '..............................XXXX.',\n",
       " '..............................X..X.',\n",
       " '..............................XXXX.',\n",
       " '...................................',\n",
       " '...................................',\n",
       " '...................................',\n",
       " '...................................',\n",
       " '...................................',\n",
       " '...................................',\n",
       " '...................................']"
      ]
     },
     "execution_count": 175,
     "metadata": {},
     "output_type": "execute_result"
    }
   ],
   "source": [
    "for x, y in rect1:\n",
    "   grid[y] = grid[y][:x] + 'X' + grid[y][x + 1:] \n",
    "\n",
    "grid"
   ]
  },
  {
   "cell_type": "code",
   "execution_count": 394,
   "metadata": {
    "collapsed": true
   },
   "outputs": [],
   "source": [
    "def listItemsShuffle(\n",
    "    # initial state\n",
    "    listToShuffle\n",
    "):\n",
    "    \"\"\"must \n",
    "    shuffle `randomly` items in list.\"\"\"\n",
    "    \n",
    "    # initial state\n",
    "    shuffleSeed = listToShuffle.copy()\n",
    "    result = []\n",
    "    # because it change within iterator\n",
    "    iteratorRange = len(shuffleSeed)\n",
    "    # iterate over all seed items\n",
    "    for _ in range(0, iteratorRange):\n",
    "        baseIndex = random.choice(range(0, len(shuffleSeed)))\n",
    "        # accumulate result\n",
    "        result.append(shuffleSeed[baseIndex])\n",
    "        # reduce seed\n",
    "        #shuffleSeed = \\\n",
    "        #shuffleSeed[0:baseIndex] + suffleSeed[baseIndex + 1:]\n",
    "        shuffleSeed.pop(baseIndex)\n",
    "\n",
    "    return result"
   ]
  },
  {
   "cell_type": "code",
   "execution_count": 391,
   "metadata": {
    "collapsed": false
   },
   "outputs": [
    {
     "data": {
      "text/plain": [
       "[1, 5, 8, 1, 0, 2, 4, 1]"
      ]
     },
     "execution_count": 391,
     "metadata": {},
     "output_type": "execute_result"
    }
   ],
   "source": [
    "test_list3 = ['DL', 1, 5, 8, 1, 0, 2, 4, 1]\n",
    "#list.remove(x)\n",
    "#Remove the first item from the list whose value is x. \n",
    "#It is an error if there is no such item.\n",
    "test_list3.remove('DL')\n",
    "test_list3"
   ]
  },
  {
   "cell_type": "code",
   "execution_count": 393,
   "metadata": {
    "collapsed": false
   },
   "outputs": [
    {
     "data": {
      "text/plain": [
       "[1, 5, 8, 1, 0, 2, 4, 1]"
      ]
     },
     "execution_count": 393,
     "metadata": {},
     "output_type": "execute_result"
    }
   ],
   "source": [
    "test_list4 = test_list3.copy()\n",
    "test_list4"
   ]
  },
  {
   "cell_type": "code",
   "execution_count": 424,
   "metadata": {
    "collapsed": false
   },
   "outputs": [
    {
     "data": {
      "text/plain": [
       "[2, 1, 0, 8, 1, 1, 4, 5]"
      ]
     },
     "execution_count": 424,
     "metadata": {},
     "output_type": "execute_result"
    }
   ],
   "source": [
    "test_list3 = \\\n",
    "listItemsShuffle(listToShuffle = test_list3)\n",
    "#test_list3 = test_list4\n",
    "test_list3"
   ]
  },
  {
   "cell_type": "code",
   "execution_count": 370,
   "metadata": {
    "collapsed": false
   },
   "outputs": [
    {
     "data": {
      "text/plain": [
       "1"
      ]
     },
     "execution_count": 370,
     "metadata": {},
     "output_type": "execute_result"
    }
   ],
   "source": [
    "#list.pop([i])\n",
    "#Remove the item at the given position in the list, \n",
    "#and return it. \n",
    "#If no index is specified, \n",
    "#a.pop() removes and returns the last item in the list.\n",
    "test_list3.pop(3)"
   ]
  },
  {
   "cell_type": "code",
   "execution_count": 371,
   "metadata": {
    "collapsed": false
   },
   "outputs": [
    {
     "data": {
      "text/plain": [
       "[1, 5, 8, 0, 2, 4, 1]"
      ]
     },
     "execution_count": 371,
     "metadata": {},
     "output_type": "execute_result"
    }
   ],
   "source": [
    "test_list3"
   ]
  },
  {
   "cell_type": "code",
   "execution_count": 488,
   "metadata": {
    "collapsed": false
   },
   "outputs": [],
   "source": [
    "# TODO:\n",
    "# >>add rectangle ranking\n",
    "# based on sum of '.' they may capture within\n",
    "# >add shortest path to '.'\n",
    "# (as improvment must be ureachable\n",
    "# to opponents \n",
    "# in given turns equal to path size)\n",
    "# instead of random walk\n",
    "# every turn check if \n",
    "# path target / end point available\n",
    "# if not anymore\n",
    "# reevaluate / calculate new\n",
    "# from current position\n",
    "class Player:\n",
    "    \"\"\"class 'Player' description\"\"\"\n",
    "    #'__doc__' attribute, returning the 'docstring'\n",
    "    #import random\n",
    "    #for 'random.choice()' use\n",
    "    from random import choice\n",
    "    \n",
    "    # customized to a specific `initial state`\n",
    "    #def __init__(self):\n",
    "        #self.data = []\n",
    "    \n",
    "    # reference dictionary\n",
    "    moves = {\n",
    "        'U': {'delta': (0, -1), 'descriptor': 'move up'},\n",
    "        'D': {'delta': (0, 1), 'descriptor': 'move down'},\n",
    "        'R': {'delta': (1, 0), 'descriptor': 'move right'},\n",
    "        'L': {'delta': (-1, 0), 'descriptor': 'move left'}\n",
    "    }    \n",
    "    # first char must be longSide direction\n",
    "    # or drawing order\n",
    "    directions = [\n",
    "        #'RD', 'RU', 'LD', 'LU'\n",
    "        #'DR', 'UR', 'DL', 'UL'\n",
    "        'RD', 'RU', 'LD', 'LU'\n",
    "                ]\n",
    "    #current 'grid' `state`\n",
    "    grid = []\n",
    "    # move path plan\n",
    "    path = []\n",
    "    \n",
    "    #'grid' builder / updater\n",
    "    def addToGrid(\n",
    "        # additional positional argument\n",
    "        # added / passed to all class methods\n",
    "        self, \n",
    "        newLine):\n",
    "        \"\"\"'grid' builder / updater\"\"\"\n",
    "        # refer to inner / class instance attribute\n",
    "        self.grid.append(newLine)\n",
    "        \n",
    "        return self.grid\n",
    "\n",
    "    def listItemsShuffle(\n",
    "        self,\n",
    "        # initial state\n",
    "        listToShuffle\n",
    "    ):\n",
    "        \"\"\"must \n",
    "        shuffle `randomly` items in list.\"\"\"\n",
    "\n",
    "        # initial state\n",
    "        # Python 2.7\n",
    "        #AttributeError: 'list' object has no attribute 'copy'\n",
    "        # use the sorted() function \n",
    "        # which returns \n",
    "        # a new sorted list while leaving the source unaltered.\n",
    "        #shuffleSeed = listToShuffle.copy()\n",
    "        shuffleSeed = sorted(listToShuffle.copy)\n",
    "        result = []\n",
    "        # because it change within iterator\n",
    "        iteratorRange = len(shuffleSeed)\n",
    "        # iterate over all seed items\n",
    "        for _ in range(0, iteratorRange):\n",
    "            baseIndex = random.choice(range(0, len(shuffleSeed)))\n",
    "            # accumulate result\n",
    "            result.append(shuffleSeed[baseIndex])\n",
    "            # reduce seed\n",
    "            #shuffleSeed = \\\n",
    "            #shuffleSeed[0:baseIndex] + suffleSeed[baseIndex + 1:]\n",
    "            shuffleSeed.pop(baseIndex)\n",
    "\n",
    "        return result\n",
    "\n",
    "    def stringCharsSuffler(self, suffleSeed):\n",
    "        \"\"\"must \n",
    "        shuffle randomly characters in string.\"\"\"\n",
    "        result = ''\n",
    "        iteratorRange = len(suffleSeed)\n",
    "        # iterate over all seed characters\n",
    "        for _ in range(0, iteratorRange):\n",
    "            baseIndex = random.choice(range(0, len(suffleSeed)))\n",
    "            # accumulate result\n",
    "            result += suffleSeed[baseIndex]\n",
    "            # reduce seed\n",
    "            suffleSeed = \\\n",
    "            suffleSeed[0:baseIndex] + suffleSeed[baseIndex + 1:]\n",
    "\n",
    "        return result\n",
    "\n",
    "    def withinLimits(\n",
    "        self,\n",
    "        x, \n",
    "        y,\n",
    "        #xLimits\n",
    "        minX = 0,\n",
    "        maxX = 35,\n",
    "        #yLimits\n",
    "        minY = 0,\n",
    "        maxY = 20\n",
    "    ):\n",
    "        \"\"\"membership check\"\"\"\n",
    "        \n",
    "        # Boolean\n",
    "        return x >= minX and x < maxX and y >= minY and y < maxY\n",
    "\n",
    "    # possible moves \n",
    "    # for current turn / player position at the grid\n",
    "    def availableMoves(\n",
    "        self,\n",
    "        x,\n",
    "        y,\n",
    "        #xLimits\n",
    "        minX = 0,\n",
    "        maxX = 35,\n",
    "        #yLimits\n",
    "        minY = 0,\n",
    "        maxY = 20\n",
    "    ):\n",
    "        \"\"\"possible moves \n",
    "        for current turn / player position at the grid\"\"\"\n",
    "        \n",
    "        availablePotitions = []\n",
    "        possibleMoves = []\n",
    "        possibleMovesDeltas = []\n",
    "        if minX <= x - 1:\n",
    "            availablePotitions.append((x - 1, y))\n",
    "            possibleMoves.append('L')\n",
    "            possibleMovesDeltas.append((-1, 0))\n",
    "\n",
    "        if minY <= y - 1:\n",
    "            availablePotitions.append((x, y - 1))\n",
    "            possibleMoves.append('U')\n",
    "            possibleMovesDeltas.append((0, -1))\n",
    "\n",
    "        if maxX > x + 1:\n",
    "            availablePotitions.append((x + 1, y))\n",
    "            possibleMoves.append('R')\n",
    "            possibleMovesDeltas.append((1, 0))\n",
    "\n",
    "        if maxY > y + 1:\n",
    "            availablePotitions.append((x, y + 1))\n",
    "            possibleMoves.append('D')\n",
    "            possibleMovesDeltas.append((0, 1))\n",
    "\n",
    "        # empty list or up to four elements\n",
    "        return possibleMoves\n",
    "\n",
    "\n",
    "    def drawPathFromT_Matrix(\n",
    "        self,\n",
    "        startX,\n",
    "        startY,\n",
    "        longSide = 4,\n",
    "        shortSide = 3,\n",
    "        # random\n",
    "        # first leter => longSide\n",
    "        # second leter => shortSide\n",
    "        # ['RD', 'RU', 'LD', 'LU'\n",
    "        # 'DR', 'UR', 'DL', 'UL']\n",
    "        direction = 'DL'\n",
    "    ):\n",
    "        \"\"\"Pick transformation from matrix\n",
    "        and draw path\"\"\"\n",
    "\n",
    "        #switch sides\n",
    "        if random.choice( (0, 1) ):\n",
    "            shortSideCopy = shortSide\n",
    "            shortSide = longSide\n",
    "            longSide = shortSideCopy\n",
    "        \n",
    "        path = []\n",
    "        tMatrix = {\n",
    "            'RD': {\n",
    "                'distantConerX': startX + longSide - 1,\n",
    "                'distantConerY': startY + shortSide - 1,\n",
    "                'transformations': [\n",
    "                # coordinate 'tuple' `index`\n",
    "                {'tupleIndex': 0, 'from': startX, 'to': startX + longSide, 'step': +1},\n",
    "                {'tupleIndex': 1, \n",
    "                 # 'startY' excluded\n",
    "                 'from': startY + 1, \n",
    "                 'to': startY + shortSide, 'step': +1},\n",
    "                {'tupleIndex': 0, \n",
    "                 # 'connerX' excluded\n",
    "                 'from': startX + longSide - 2, \n",
    "                 'to': startX - 1, \n",
    "                 # `step`\n",
    "                 'step': -1},\n",
    "                {'tupleIndex': 1, \n",
    "                 # 'connerY' excluded\n",
    "                 'from': startY + shortSide - 2, \n",
    "                 # 'startY' excluded\n",
    "                 'to': startY, 'step': -1}\n",
    "                ]},\n",
    "            'DL': {\n",
    "                'distantConerX': startX - longSide + 1,\n",
    "                'distantConerY': startY + shortSide - 1,\n",
    "                'transformations': [\n",
    "                    {'tupleIndex': 1, 'from': startY, 'to': (startY + shortSide), 'step': 1},\n",
    "                    {'tupleIndex': 0, 'from': (startX - 1), 'to': (startX - longSide), 'step': -1},\n",
    "                    {'tupleIndex': 1, 'from': (startY + shortSide - 2), 'to': startY - 1, 'step': -1},\n",
    "                    {'tupleIndex': 0, 'from': (startX - longSide + 2), 'to': startX, 'step': 1}\n",
    "                ]\n",
    "            },\n",
    "            'LU': {\n",
    "                'distantConerX': startX - longSide + 1,\n",
    "                'distantConerY': startY - shortSide + 1,\n",
    "                'transformations': [\n",
    "                    {'tupleIndex': 0, 'from': startX, 'to': (startX - longSide), 'step': -1},\n",
    "                    {'tupleIndex': 1, 'from': startY - 1, 'to': startY - shortSide, 'step': -1},\n",
    "                    {'tupleIndex': 0, 'from': (startX - longSide + 2), 'to': startX + 1, 'step': 1},\n",
    "                    {'tupleIndex': 1, 'from': startY - shortSide + 2, 'to': startY, 'step': 1}                \n",
    "                ]\n",
    "            },\n",
    "            'RU': {\n",
    "                'distantConerX': startX + longSide - 1,\n",
    "                'distantConerY': startY - shortSide + 1,\n",
    "                'transformations': [\n",
    "                    {'tupleIndex': 0, 'from': startX, 'to': (startX + longSide), 'step': 1},\n",
    "                    {'tupleIndex': 1, 'from': startY - 1, 'to': startY - shortSide, 'step': -1},\n",
    "                    {'tupleIndex': 0, 'from': (startX + longSide - 2), 'to': startX - 1, 'step': -1},\n",
    "                    {'tupleIndex': 1, 'from': startY - shortSide + 2, 'to': startY, 'step': 1}                \n",
    "                ]\n",
    "            }\n",
    "        }\n",
    "\n",
    "        #currentX = startX\n",
    "        #currentY = startY\n",
    "        #coordTuple = (startX, startY)\n",
    "        coordList = [startX, startY]\n",
    "\n",
    "        # depend on\n",
    "        # build direction / variant\n",
    "        distantConerX = tMatrix[direction]['distantConerX']\n",
    "        distantConerY = tMatrix[direction]['distantConerY']\n",
    "        # (major / main) \n",
    "        # one of the feasibility conditions\n",
    "        if not self.withinLimits(distantConerX, distantConerY):\n",
    "            #break\n",
    "            return path\n",
    "        \n",
    "        assert len(self.grid) > 0\n",
    "        \n",
    "        # is occupied ?\n",
    "        conerValue = self.grid[distantConerY][distantConerX]\n",
    "        #if not self.grid[distantConerY][distantConerX] == '.':\n",
    "        if conerValue != '.':\n",
    "            #break\n",
    "            return path\n",
    "        \n",
    "        if conerValue == '0':\n",
    "            #break\n",
    "            return path\n",
    "        \n",
    "        for operation in tMatrix[direction]['transformations']:\n",
    "            #>>> range(3, 6)             # normal call with separate arguments\n",
    "            #[3, 4, 5]\n",
    "            #>>> args = [3, 6]\n",
    "            #>>> range(*args)            # call with arguments unpacked from a list\n",
    "            #[3, 4, 5]\n",
    "            for coord in range(operation['from'], operation['to'], operation['step']):\n",
    "                #coordTuple[operation['tupleIndex']] = coord\n",
    "                coordList[operation['tupleIndex']] = coord\n",
    "                #path.append(coordTuple)\n",
    "                path.append((coordList[0], coordList[1]))\n",
    "\n",
    "        return path\n",
    "\n",
    "    def nextMove(\n",
    "        self,\n",
    "        currentX,\n",
    "        currentY\n",
    "                ):\n",
    "        \"\"\"return next player position string\"\"\"\n",
    "        \n",
    "        if len(self.path) > 0:\n",
    "            pathHead = self.path[0]\n",
    "            self.path = self.path[1:]\n",
    "            \n",
    "            return str(pathHead[0]) + \" \" + str(pathHead[1]) + \" \" + \"follow path\"\n",
    "        \n",
    "        else:\n",
    "            # make things more interesting\n",
    "            self.directions = self.listItemsShuffle(\n",
    "            listToShuffle = self.directions)\n",
    "            \n",
    "            for d in self.directions:\n",
    "                # 'self' for Python 2.7\n",
    "                self.path = self.drawPathFromT_Matrix(\n",
    "                startX = x,\n",
    "                startY = y)\n",
    "                \n",
    "                if len(self.path) > 0:\n",
    "                    pathHead = self.path[0]\n",
    "                    self.path = self.path[1:]\n",
    "\n",
    "                    return str(pathHead[0]) + \" \" + str(pathHead[1]) + \" \" + \"follow path\"\n",
    "           \n",
    "        #if len(self.path) == 0:\n",
    "        #if not self.path:\n",
    "        \n",
    "        # !!!WARN!!! \n",
    "        # for Python 2.7\n",
    "        # random must be defined in global scope\n",
    "        # not within class ?\n",
    "        #random.\n",
    "        moveDirection = \\\n",
    "        random.choice(self.availableMoves(\n",
    "            x = currentX,\n",
    "            y = currentY\n",
    "            ))\n",
    "        move = self.moves[moveDirection]\n",
    "        deltas = move['delta']\n",
    "        \n",
    "        return str(x + deltas[0]) + \" \" + str(y + deltas[1]) + \" \" + move['descriptor']"
   ]
  },
  {
   "cell_type": "code",
   "execution_count": 478,
   "metadata": {
    "collapsed": false
   },
   "outputs": [
    {
     "data": {
      "text/plain": [
       "False"
      ]
     },
     "execution_count": 478,
     "metadata": {},
     "output_type": "execute_result"
    }
   ],
   "source": [
    "random.choice( (0, 1) ) == True"
   ]
  },
  {
   "cell_type": "code",
   "execution_count": 484,
   "metadata": {
    "collapsed": false
   },
   "outputs": [
    {
     "data": {
      "text/plain": [
       "(3, 1)"
      ]
     },
     "execution_count": 484,
     "metadata": {},
     "output_type": "execute_result"
    }
   ],
   "source": [
    "shortSide = 1\n",
    "longSide = 3\n",
    "#switch sides\n",
    "if random.choice( (0, 1) ):\n",
    "    shortSideCopy = shortSide\n",
    "    shortSide = longSide\n",
    "    longSide = shortSideCopy\n",
    "    \n",
    "shortSide,  longSide   "
   ]
  },
  {
   "cell_type": "code",
   "execution_count": 486,
   "metadata": {
    "collapsed": false
   },
   "outputs": [
    {
     "data": {
      "text/plain": [
       "False"
      ]
     },
     "execution_count": 486,
     "metadata": {},
     "output_type": "execute_result"
    }
   ],
   "source": [
    "1 == 2 > 0 "
   ]
  },
  {
   "cell_type": "code",
   "execution_count": 310,
   "metadata": {
    "collapsed": false
   },
   "outputs": [
    {
     "name": "stdout",
     "output_type": "stream",
     "text": [
      "empty\n"
     ]
    }
   ],
   "source": [
    "#condition =\\\n",
    "if []:\n",
    "    print('non empty')\n",
    "else:\n",
    "    print('empty')"
   ]
  },
  {
   "cell_type": "code",
   "execution_count": 311,
   "metadata": {
    "collapsed": false
   },
   "outputs": [
    {
     "name": "stdout",
     "output_type": "stream",
     "text": [
      "non empty\n"
     ]
    }
   ],
   "source": [
    "if [1]:\n",
    "    print('non empty')\n",
    "else:\n",
    "    print('empty')"
   ]
  },
  {
   "cell_type": "code",
   "execution_count": 458,
   "metadata": {
    "collapsed": false
   },
   "outputs": [
    {
     "data": {
      "text/plain": [
       "<__main__.Player at 0x307f9b0>"
      ]
     },
     "execution_count": 458,
     "metadata": {},
     "output_type": "execute_result"
    }
   ],
   "source": [
    "# creates a new `instance` of the class and \n",
    "# assigns this `object` to the `local variable`\n",
    "playerAlex = Player()\n",
    "playerAlex"
   ]
  },
  {
   "cell_type": "code",
   "execution_count": 460,
   "metadata": {
    "collapsed": false
   },
   "outputs": [
    {
     "data": {
      "text/plain": [
       "['...................................',\n",
       " '...................................',\n",
       " '...................................',\n",
       " '...................................',\n",
       " '...................................',\n",
       " '...................................',\n",
       " '...................................',\n",
       " '...................................',\n",
       " '...................................',\n",
       " '...................................',\n",
       " '...................................',\n",
       " '...................................',\n",
       " '...................................',\n",
       " '...................................',\n",
       " '...................................',\n",
       " '...................................',\n",
       " '...................................',\n",
       " '...................................',\n",
       " '...................................',\n",
       " '...................................']"
      ]
     },
     "execution_count": 460,
     "metadata": {},
     "output_type": "execute_result"
    }
   ],
   "source": [
    "playerAlex.grid = grid\n",
    "playerAlex.grid"
   ]
  },
  {
   "cell_type": "code",
   "execution_count": 461,
   "metadata": {
    "collapsed": false
   },
   "outputs": [
    {
     "data": {
      "text/plain": [
       "(10,\n",
       " '[(30, 2), (31, 2), (32, 2), (33, 2), (33, 1), (33, 0), (32, 0), (31, 0), (30, 0), (30, 1)]')"
      ]
     },
     "execution_count": 461,
     "metadata": {},
     "output_type": "execute_result"
    }
   ],
   "source": [
    "grid.clear()\n",
    "line = '.' * 35\n",
    "# list of strings\n",
    "# has more compact representation\n",
    "# than list of lists of chars\n",
    "for n in range(0, 20):\n",
    "    grid.append(line)\n",
    "\n",
    "startX = 30\n",
    "startY = 2    \n",
    "path2 = playerAlex.drawPathFromT_Matrix(\n",
    "    startX = startX,\n",
    "    startY = startY,\n",
    "    direction = 'RU'\n",
    ")    \n",
    "# for 4 * 3 sides path length / perimeter must be equal to '10'\n",
    "#assert len(path2) = 10  \n",
    "len(path2), str(path2)"
   ]
  },
  {
   "cell_type": "code",
   "execution_count": 110,
   "metadata": {
    "collapsed": false
   },
   "outputs": [
    {
     "data": {
      "text/plain": [
       "{'D': {'delta': (0, 1), 'descriptor': 'move down'},\n",
       " 'L': {'delta': (-1, 0), 'descriptor': 'move left'},\n",
       " 'R': {'delta': (1, 0), 'descriptor': 'move right'},\n",
       " 'U': {'delta': (0, -1), 'descriptor': 'move up'}}"
      ]
     },
     "execution_count": 110,
     "metadata": {},
     "output_type": "execute_result"
    }
   ],
   "source": [
    "playerAlex.moves"
   ]
  },
  {
   "cell_type": "code",
   "execution_count": 111,
   "metadata": {
    "collapsed": false
   },
   "outputs": [
    {
     "data": {
      "text/plain": [
       "(0, -1)"
      ]
     },
     "execution_count": 111,
     "metadata": {},
     "output_type": "execute_result"
    }
   ],
   "source": [
    "playerAlex.moves['U']['delta']"
   ]
  },
  {
   "cell_type": "code",
   "execution_count": 112,
   "metadata": {
    "collapsed": false
   },
   "outputs": [
    {
     "data": {
      "text/plain": [
       "0"
      ]
     },
     "execution_count": 112,
     "metadata": {},
     "output_type": "execute_result"
    }
   ],
   "source": [
    "playerAlex.moves['U']['delta'][0]"
   ]
  },
  {
   "cell_type": "code",
   "execution_count": 98,
   "metadata": {
    "collapsed": false
   },
   "outputs": [
    {
     "data": {
      "text/plain": [
       "[]"
      ]
     },
     "execution_count": 98,
     "metadata": {},
     "output_type": "execute_result"
    }
   ],
   "source": [
    "playerAlex.grid"
   ]
  },
  {
   "cell_type": "code",
   "execution_count": 99,
   "metadata": {
    "collapsed": false
   },
   "outputs": [
    {
     "data": {
      "text/plain": [
       "['newLine']"
      ]
     },
     "execution_count": 99,
     "metadata": {},
     "output_type": "execute_result"
    }
   ],
   "source": [
    "playerAlex.addToGrid('newLine')"
   ]
  },
  {
   "cell_type": "code",
   "execution_count": 358,
   "metadata": {
    "collapsed": false
   },
   "outputs": [
    {
     "data": {
      "text/plain": [
       "[]"
      ]
     },
     "execution_count": 358,
     "metadata": {},
     "output_type": "execute_result"
    }
   ],
   "source": [
    "playerAlex.grid"
   ]
  },
  {
   "cell_type": "code",
   "execution_count": 79,
   "metadata": {
    "collapsed": false
   },
   "outputs": [
    {
     "data": {
      "text/plain": [
       "(0, 16)"
      ]
     },
     "execution_count": 79,
     "metadata": {},
     "output_type": "execute_result"
    }
   ],
   "source": [
    "x, y"
   ]
  },
  {
   "cell_type": "code",
   "execution_count": 347,
   "metadata": {
    "collapsed": false
   },
   "outputs": [
    {
     "data": {
      "text/plain": [
       "['L', 'U', 'R', 'D']"
      ]
     },
     "execution_count": 347,
     "metadata": {},
     "output_type": "execute_result"
    }
   ],
   "source": [
    "playerAlex.availableMoves(x, y)"
   ]
  },
  {
   "cell_type": "code",
   "execution_count": 455,
   "metadata": {
    "collapsed": false
   },
   "outputs": [
    {
     "data": {
      "text/plain": [
       "'28 3 follow path'"
      ]
     },
     "execution_count": 455,
     "metadata": {},
     "output_type": "execute_result"
    }
   ],
   "source": [
    "playerAlex.nextMove(x, y)"
   ]
  },
  {
   "cell_type": "code",
   "execution_count": 26,
   "metadata": {
    "collapsed": false
   },
   "outputs": [],
   "source": [
    "lastMoveDirection = ''\n",
    "lastMoveDirections = []\n",
    "playerPath = []\n",
    "\n",
    "def turn(\n",
    "    # `player` position at the `grid`\n",
    "    # at the beginning of the turn\n",
    "    x, \n",
    "    y, \n",
    "         # reoresent current state\n",
    "         grid):\n",
    "        \n",
    "    #for i in xrange(opponent_count):\n",
    "         # opponent_x: X position of the opponent\n",
    "         # opponent_y: Y position of the opponent\n",
    "         # opponent_back_in_time_left: Remaining back in time of the opponent\n",
    "        #opponent_x, opponent_y, opponent_back_in_time_left = [int(j) for j in raw_input().split()]\n",
    "        \n",
    "    #The `grid` is composed of '35' `columns` and '20' `rows`.  \n",
    "    #grid = []\n",
    "    #for i in xrange(20):\n",
    "        #line = raw_input() # One line of the map ('.' = free, '0' = you, otherwise the id of the opponent)\n",
    "        #grid.append(line)\n",
    "    \n",
    "    assert len(grid) == 20\n",
    "    assert y >= 0 and y < 20\n",
    "    assert x >= 0 and x < 35\n",
    "    \n",
    "    updatedGrid = grid\n",
    "    updatedGrid[y] = updatedGrid[y][:x] + '0' + updatedGrid[y][x + 1:]\n",
    "\n",
    "    #if (opponent_x, opponent_y, opponent_back_in_time_left) == (-1, -1, 0):\n",
    "        #opponentGone = True\n",
    "    \n",
    "    #moves:\n",
    "    moves = {\n",
    "        'up': 'move up',\n",
    "        'down': 'move down',\n",
    "        'right': 'move right',\n",
    "        'left': 'move left'\n",
    "    }\n",
    "    #up\n",
    "    up = -1\n",
    "    #down\n",
    "    down = 1\n",
    "    #right\n",
    "    right = 1\n",
    "    #left\n",
    "    left = -1\n",
    "    \n",
    "    # must move first \n",
    "    # along / towards longest path / direction\n",
    "    # also, usefull to store last direction\n",
    "    # and use / assign weights to \n",
    "    # possble directions / moves\n",
    "\n",
    "    movePriceMatrix = []\n",
    "    \n",
    "    nextX, nextY = x, y\n",
    "    #if grid[x + 0][y + 1] == '.':\n",
    "    \n",
    "    #turn conditions\n",
    "    if lastMoveDirection == 'right' and x == 35 - 1:\n",
    "        if y == 0:\n",
    "            nextX, nextY = x, y + 1\n",
    "            \n",
    "            nextMove = moves['down']\n",
    "            lastMoveDirection = 'down'\n",
    "        elif y > 0 and y <= 20 / 2:\n",
    "            nextX, nextY = x, y + 1\n",
    "            \n",
    "            nextMove = moves['down']\n",
    "            lastMoveDirection = 'down'\n",
    "        elif y > 20 / 2 and y <= 20 - 1:\n",
    "            nextX, nextY = x, y - 1\n",
    "            \n",
    "            nextMove = moves['up']\n",
    "            lastMoveDirection = 'up'   \n",
    "    elif lastMoveDirection == 'left' and x == 0:\n",
    "        if y == 0:\n",
    "            nextX, nextY = x, y + 1\n",
    "            \n",
    "            nextMove = moves['down']\n",
    "            lastMoveDirection = 'down'\n",
    "        elif y > 0 and y <= 20 / 2:\n",
    "            nextX, nextY = x, y + 1\n",
    "            \n",
    "            nextMove = moves['down']\n",
    "            lastMoveDirection = 'down'\n",
    "        elif y > 20 / 2 and y <= 20 - 1:\n",
    "            nextX, nextY = x, y - 1\n",
    "            \n",
    "            nextMove = moves['up']\n",
    "            lastMoveDirection = 'up'\n",
    "    elif lastMoveDirection == 'up' and y == 0:\n",
    "        if x == 0:\n",
    "            nextX, nextY = x + 1, y\n",
    "            \n",
    "            nextMove = moves['right']\n",
    "            lastMoveDirection = 'right'\n",
    "        elif x > 0 and x <= 35 / 2:\n",
    "            nextX, nextY = x + 1, y\n",
    "            \n",
    "            nextMove = moves['right']\n",
    "            lastMoveDirection = 'right'\n",
    "        elif x > 35 / 2 and x <= 35 - 1:\n",
    "            nextX, nextY = x - 1, y\n",
    "            \n",
    "            nextMove = moves['left']\n",
    "            lastMoveDirection = 'left' \n",
    "    elif lastMoveDirection == 'down' and y == 20 - 1:\n",
    "        if x == 0:\n",
    "            nextX, nextY = x + 1, y\n",
    "            \n",
    "            nextMove = moves['right']\n",
    "            lastMoveDirection = 'right'\n",
    "        elif x > 0 and x <= 35 / 2:\n",
    "            nextX, nextY = x + 1, y\n",
    "            \n",
    "            nextMove = moves['right']\n",
    "            lastMoveDirection = 'right'\n",
    "        elif x > 35 / 2 and x <= 35 - 1:\n",
    "            nextX, nextY = x - 1, y\n",
    "            \n",
    "            nextMove = moves['left']\n",
    "            lastMoveDirection = 'left'  \n",
    "    # first move\n",
    "    elif lastMoveDirection == '':\n",
    "        if x == 0 and y == 0:\n",
    "            nextX, nextY = x + 1, y\n",
    "            \n",
    "            nextMove = moves['right']\n",
    "            lastMoveDirection = 'right'  \n",
    "        elif x == 0 and y > 0:\n",
    "            nextX, nextY = x + 1, y\n",
    "            \n",
    "            nextMove = moves['right']\n",
    "            lastMoveDirection = 'right' \n",
    "        elif x == 35 - 1:\n",
    "            nextX, nextY = x - 1, y\n",
    "            \n",
    "            nextMove = moves['left']\n",
    "            lastMoveDirection = 'left'    \n",
    "        elif x == 35 - 1 and y == 0:\n",
    "            nextX, nextY = x, y + 1\n",
    "            \n",
    "            nextMove = moves['down']\n",
    "            lastMoveDirection = 'down'     \n",
    "    # basic moves        \n",
    "    elif x > 35 / 2 and x < 35:\n",
    "        nextX, nextY = x + 1, y \n",
    "        \n",
    "        nextMove = moves['right']\n",
    "        lastMoveDirection = 'right'        \n",
    "    elif x <= 35 / 2 and x >= 0:    \n",
    "        nextX, nextY = x + 1, y\n",
    "        \n",
    "        nextMove = moves['right']\n",
    "        lastMoveDirection = 'right'\n",
    "    elif x <= 35 / 2 and x > 0:    \n",
    "        nextX, nextY = x - 1, y\n",
    "        \n",
    "        nextMove = moves['left']\n",
    "        lastMoveDirection = 'left'        \n",
    "    # left top / upper coner    \n",
    "    elif lastMoveDirection == 'left' and x == 0 and y == 0:  \n",
    "        nextX, nextY = x, y + 1\n",
    "        \n",
    "        nextMove = moves['down']\n",
    "        lastMoveDirection = 'down'\n",
    "    # right top / upper coner    \n",
    "    elif lastMoveDirection == 'right' and y == 0 and x == 35 - 1:  \n",
    "        nextX, nextY = x, y + 1\n",
    "        \n",
    "        nextMove = moves['down']\n",
    "        lastMoveDirection = 'down'\n",
    "    # left bottom coner    \n",
    "    elif lastMoveDirection == 'left' and y == 20 - 1 and x == 0: \n",
    "        nextX, nextY = x, y - 1\n",
    "        nextMove = moves['up']\n",
    "        lastMoveDirection = 'up'\n",
    "    # right bottom coner    \n",
    "    elif lastMoveDirection == 'right' and y == 20 - 1 and x == 35 - 1:  \n",
    "        nextX, nextY = x, y - 1\n",
    "        \n",
    "        nextMove = moves['up']\n",
    "        lastMoveDirection = 'up'\n",
    "        \n",
    "    # Write an action using print\n",
    "    # To debug: print >> sys.stderr, \"Debug messages...\"\n",
    "    #print >> sys.stderr, \"Debug messages...\" + str(len(grid))\n",
    "    #print >> sys.stderr, \"Debug messages...\" + str(grid[x][y])\n",
    "\n",
    "    # action: \"x y\" to move or \"BACK rounds\" to go back in time\n",
    "    #print \"17 10\"\n",
    "    #print(\"{} {} {}\".format(nextX, nextY, nextMove))\n",
    "    #print str(nextX) + \" \" + str(nextY) + \" \" + nextMove\n",
    "    \n",
    "    #updatedGrid[nextY][nextX] = 'n'\n",
    "    updatedGrid[nextY] = updatedGrid[nextY][:nextX] + 'n' + updatedGrid[nextY][nextX + 1:]\n",
    "    \n",
    "    return nextX, nextY, updatedGrid"
   ]
  },
  {
   "cell_type": "code",
   "execution_count": 17,
   "metadata": {
    "collapsed": false
   },
   "outputs": [
    {
     "ename": "IndexError",
     "evalue": "list index out of range",
     "output_type": "error",
     "traceback": [
      "\u001b[1;31m---------------------------------------------------------------------------\u001b[0m",
      "\u001b[1;31mIndexError\u001b[0m                                Traceback (most recent call last)",
      "\u001b[1;32m<ipython-input-17-cc76f8035677>\u001b[0m in \u001b[0;36m<module>\u001b[1;34m()\u001b[0m\n\u001b[1;32m----> 1\u001b[1;33m \u001b[0mgrid\u001b[0m\u001b[1;33m[\u001b[0m\u001b[0mx\u001b[0m\u001b[1;33m]\u001b[0m\u001b[1;33m[\u001b[0m\u001b[0my\u001b[0m\u001b[1;33m]\u001b[0m\u001b[1;33m\u001b[0m\u001b[0m\n\u001b[0m",
      "\u001b[1;31mIndexError\u001b[0m: list index out of range"
     ]
    }
   ],
   "source": [
    "grid[x][y]"
   ]
  },
  {
   "cell_type": "code",
   "execution_count": 19,
   "metadata": {
    "collapsed": false
   },
   "outputs": [
    {
     "data": {
      "text/plain": [
       "'.'"
      ]
     },
     "execution_count": 19,
     "metadata": {},
     "output_type": "execute_result"
    }
   ],
   "source": [
    "grid[y][x]"
   ]
  },
  {
   "cell_type": "code",
   "execution_count": 24,
   "metadata": {
    "collapsed": false
   },
   "outputs": [
    {
     "data": {
      "text/plain": [
       "'...................................'"
      ]
     },
     "execution_count": 24,
     "metadata": {},
     "output_type": "execute_result"
    }
   ],
   "source": [
    "grid[y]"
   ]
  },
  {
   "cell_type": "code",
   "execution_count": 30,
   "metadata": {
    "collapsed": false
   },
   "outputs": [
    {
     "data": {
      "text/plain": [
       "'..............................0....'"
      ]
     },
     "execution_count": 30,
     "metadata": {},
     "output_type": "execute_result"
    }
   ],
   "source": [
    "grid[y][:x] + '0' + grid[y][x + 1:]"
   ]
  },
  {
   "cell_type": "code",
   "execution_count": 31,
   "metadata": {
    "collapsed": false
   },
   "outputs": [
    {
     "data": {
      "text/plain": [
       "(35, 35, 30)"
      ]
     },
     "execution_count": 31,
     "metadata": {},
     "output_type": "execute_result"
    }
   ],
   "source": [
    "len(grid[y]), len(grid[y][:x] + '0' + grid[y][x + 1:]), x"
   ]
  },
  {
   "cell_type": "code",
   "execution_count": 35,
   "metadata": {
    "collapsed": false
   },
   "outputs": [
    {
     "data": {
      "text/plain": [
       "['...................................',\n",
       " '...................................',\n",
       " '...................................',\n",
       " '...................................',\n",
       " '...................................',\n",
       " '...................................',\n",
       " '...................................',\n",
       " '...................................',\n",
       " '...................................',\n",
       " '...................................',\n",
       " '...................................',\n",
       " '...................................',\n",
       " '...................................',\n",
       " '...................................',\n",
       " '...................................',\n",
       " '...................................',\n",
       " '...................................',\n",
       " '.................................n0',\n",
       " '...................................',\n",
       " '...................................']"
      ]
     },
     "execution_count": 35,
     "metadata": {},
     "output_type": "execute_result"
    }
   ],
   "source": [
    "nextX1, nextY1, updatedGrid1 = turn(x = x, y = y, grid = grid)\n",
    "updatedGrid1"
   ]
  }
 ],
 "metadata": {
  "kernelspec": {
   "display_name": "Python 3",
   "language": "python",
   "name": "python3"
  },
  "language_info": {
   "codemirror_mode": {
    "name": "ipython",
    "version": 3
   },
   "file_extension": ".py",
   "mimetype": "text/x-python",
   "name": "python",
   "nbconvert_exporter": "python",
   "pygments_lexer": "ipython3",
   "version": "3.4.3"
  }
 },
 "nbformat": 4,
 "nbformat_minor": 0
}
